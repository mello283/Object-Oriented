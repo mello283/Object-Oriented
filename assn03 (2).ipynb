{
 "cells": [
  {
   "cell_type": "markdown",
   "id": "63cbc0ea-7cd4-4438-bb32-5b9426d83e09",
   "metadata": {},
   "source": [
    "CS417 Assignment 4: Getting your feet wet in Python\n",
    "---\n",
    "# Instructions\n",
    "Each of the following questions is followed by empty code cell. Add your code for the question to the cell and then execute that cell.  Submit the completed notebook by saving it in your GitHub repository and note in your submission on Blackboard where I can find the file.\n"
   ]
  },
  {
   "cell_type": "markdown",
   "id": "9465d6e4-f49c-438e-9a1d-ccf418e2fed9",
   "metadata": {},
   "source": [
    "## Problem 1 (Easy)\n",
    "Write a word frequency counter: How often does each word\n",
    "  show up in an array of words? Print out a report. (Hint: Use a dictionary to\n",
    "  count of the number of appearances of each word.)"
   ]
  },
  {
   "cell_type": "code",
   "execution_count": null,
   "id": "366de7f5-8efd-4964-afb2-12734c2142e2",
   "metadata": {},
   "outputs": [],
   "source": [
    "def word_frequency_counter(text):\n",
    "    # Convert text to lowercase to treat words case-insensitively\n",
    "    text = text.lower()\n",
    "    \n",
    "    # Split the text into words\n",
    "    words = text.split()\n",
    "    \n",
    "    # Create an empty dictionary to store word frequencies\n",
    "    word_freq = {}\n",
    "    \n",
    "    # Iterate through the words and count their frequencies\n",
    "    for word in words:\n",
    "        # Remove punctuation and special characters from the word\n",
    "        word = word.strip('.,!?()[]{}:;\"')\n",
    "        \n",
    "        # If the word is not empty, update its frequency in the dictionary\n",
    "        if word:\n",
    "            if word in word_freq:\n",
    "                word_freq[word] += 1\n",
    "            else:\n",
    "                word_freq[word] = 1\n",
    "    \n",
    "    return word_freq\n",
    "\n",
    "# Example usage:\n",
    "if __name__ == \"__main__\":\n",
    "    input_text = \"\"\"This is a simple example. In this example, we will count the frequency of words in a text.\"\"\"\n",
    "    \n",
    "    frequency_dict = word_frequency_counter(input_text)\n",
    "    \n",
    "    # Print the word frequencies\n",
    "    for word, freq in frequency_dict.items():\n",
    "        print(f\"{word}: {freq}\")\n"
   ]
  },
  {
   "cell_type": "markdown",
   "id": "15b4b2ce-9118-4abb-9bbf-ed787721f87c",
   "metadata": {},
   "source": [
    "## Problem 2 (Easy)\n",
    "Given a month and the day of the week that’s the first of\n",
    "  that month entered as arugments on the command line, write a program\n",
    "  that prints a calendar for the month. (HINT: Remember one of the rules of being Pythonic: *Someone else has already done it*.  Do some research to see if you can find a Python library that will help you with this problem)."
   ]
  },
  {
   "cell_type": "code",
   "execution_count": null,
   "id": "2b365fa9-c81c-4149-9e8f-eda14255d50c",
   "metadata": {},
   "outputs": [],
   "source": [
    "import calendar\n",
    "\n",
    "def print_calendar(month, day_of_week):\n",
    "    # Create a calendar object\n",
    "    cal = calendar.monthcalendar(year=2023, month=month)\n",
    "\n",
    "    # Define a list of day names\n",
    "    day_names = [\"Monday\", \"Tuesday\", \"Wednesday\", \"Thursday\", \"Friday\", \"Saturday\", \"Sunday\"]\n",
    "\n",
    "    # Find the index of the specified day of the week\n",
    "    day_index = day_names.index(day_of_week.capitalize())\n",
    "\n",
    "    # Print the header\n",
    "    print(f\"Calendar for {calendar.month_name[month]} 2023\")\n",
    "    print(\"Mo Tu We Th Fr Sa Su\")\n",
    "\n",
    "    # Iterate through the calendar and print the days\n",
    "    for week in cal:\n",
    "        for day in week:\n",
    "            if day == 0:\n",
    "                print(\"  \", end=\" \")\n",
    "            else:\n",
    "                print(f\"{day:2}\", end=\" \")\n",
    "        print()  # Move to the next line\n",
    "\n",
    "# Example usage:\n",
    "if __name__ == \"__main__\":\n",
    "    month = 9  # September\n",
    "    day_of_week = \"Monday\"\n",
    "    print_calendar(month, day_of_week)"
   ]
  },
  {
   "cell_type": "markdown",
   "id": "a7e29bca-2e3e-4cb2-a768-47215582850e",
   "metadata": {},
   "source": [
    "## Problem 3 (Easy)\n",
    "Write a function that counts the the characters in a\n",
    "  string input by the user.  Write a main function that calls this\n",
    "  function and displays the string and number of characters."
   ]
  },
  {
   "cell_type": "code",
   "execution_count": null,
   "id": "f6189d14-e493-4473-a9cd-bffc9560160c",
   "metadata": {},
   "outputs": [],
   "source": [
    "def count_characters(input_string):\n",
    "    # Remove spaces from the input string\n",
    "    input_string = input_string.replace(\" \", \"\")\n",
    "    \n",
    "    # Calculate the character count\n",
    "    char_count = len(input_string)\n",
    "    \n",
    "    return char_count\n",
    "\n",
    "def main():\n",
    "    # Get user input\n",
    "    user_input = input(\"Enter a string: \")\n",
    "    \n",
    "    # Call the function to count characters\n",
    "    result = count_characters(user_input)\n",
    "    \n",
    "    # Display the character count\n",
    "    print(f\"Character count: {result}\")\n",
    "\n",
    "if __name__ == \"__main__\":\n",
    "    main()\n"
   ]
  },
  {
   "cell_type": "markdown",
   "id": "d460ad3f",
   "metadata": {},
   "source": [
    "# Problem 4 (Moderate, but Painfully Simple)\n",
    "\n",
    "You are writing a test framework in Python and you need to determine what are the attributes and methods of an object.    Write a function (whose body, if you're careful about it, need only be a single statement) that returns a list of the attributes and methods of an object passed to it as an argument."
   ]
  },
  {
   "cell_type": "code",
   "execution_count": null,
   "id": "6dcfd557",
   "metadata": {},
   "outputs": [],
   "source": [
    "def get_methods(obj):\n",
    "    # Use the dir() function to get a list of attributes and methods of the object\n",
    "    attributes_and_methods = dir(obj)\n",
    "    \n",
    "    # Filter the list to include only callable items (methods)\n",
    "    methods = [item for item in attributes_and_methods if callable(getattr(obj, item))]\n",
    "    \n",
    "    return methods\n",
    "\n",
    "# Example usage:\n",
    "class MyClass:\n",
    "    def method1(self):\n",
    "        pass\n",
    "\n",
    "    def method2(self):\n",
    "        pass\n",
    "\n",
    "my_object = MyClass()\n",
    "\n",
    "# Get and print the methods of the object's class\n",
    "methods = get_methods(my_object)\n",
    "print(\"Methods in the class:\", methods)"
   ]
  },
  {
   "cell_type": "markdown",
   "id": "72dc799e",
   "metadata": {},
   "source": [
    "# Problem 5 (Moderate)\n",
    "\n",
    "One can parse a fully-parenthesized in-fix expression using two stacks: an operand stack and an operator stack.   You traverse your way through a string containing such an expression and push numbers onto the operand stack and operators onto the operator stack.   When you see a right parenthsis character,  pop two numbers off of the operand stack and pop an operator off of the operator stack, do the operation (add, subtract, multiply, or divide), and push the result back onto the operand stack.   When you reach the end of the expression string, the number on the top of the operand stack is the result (assuming a correctly formatted expression).\n",
    "\n",
    "Write a function in Python that, given a fully-parenthesized in-fix expression in a string, returns the result of evaluating that expression."
   ]
  },
  {
   "cell_type": "code",
   "execution_count": null,
   "id": "3a5e579f",
   "metadata": {},
   "outputs": [],
   "source": [
    "def infix_to_postfix(expression):\n",
    "    def precedence(operator):\n",
    "        precedence_dict = {'+': 1, '-': 1, '*': 2, '/': 2}\n",
    "        return precedence_dict.get(operator, 0)\n",
    "\n",
    "    def apply_operator(operators, operands):\n",
    "        operator = operators.pop()\n",
    "        right_operand = operands.pop()\n",
    "        left_operand = operands.pop()\n",
    "        if operator == '+':\n",
    "            result = left_operand + right_operand\n",
    "        elif operator == '-':\n",
    "            result = left_operand - right_operand\n",
    "        elif operator == '*':\n",
    "            result = left_operand * right_operand\n",
    "        elif operator == '/':\n",
    "            result = left_operand / right_operand\n",
    "        operands.append(result)\n",
    "\n",
    "    def is_higher_precedence(op1, op2):\n",
    "        return precedence(op1) > precedence(op2)\n",
    "\n",
    "    operators = []\n",
    "    operands = []\n",
    "    tokens = expression.split()\n",
    "\n",
    "    for token in tokens:\n",
    "        if token.isnumeric():\n",
    "            operands.append(float(token))\n",
    "        elif token in \"+-*/^\":\n",
    "            while (\n",
    "                operators\n",
    "                and operators[-1] != \"(\"\n",
    "                and is_higher_precedence(operators[-1], token)\n",
    "            ):\n",
    "                apply_operator(operators, operands)\n",
    "            operators.append(token)\n",
    "        elif token == \"(\":\n",
    "            operators.append(token)\n",
    "        elif token == \")\":\n",
    "            while operators[-1] != \"(\":\n",
    "                apply_operator(operators, operands)\n",
    "            operators.pop()  # Remove the left parenthesis\n",
    "\n",
    "    while operators:\n",
    "        apply_operator(operators, operands)\n",
    "\n",
    "    return operands[0]\n",
    "\n",
    "# Example usage:\n",
    "if __name__ == \"__main__\":\n",
    "    infix_expression = \"3 + ( 4 * 2 ) / ( 1 - 5 )\"\n",
    "    postfix_expression = infix_to_postfix(infix_expression)\n",
    "    print(\"Postfix expression:\", postfix_expression)"
   ]
  }
 ],
 "metadata": {
  "kernelspec": {
   "display_name": "Python 3.10.6 64-bit",
   "language": "python",
   "name": "python3"
  },
  "language_info": {
   "codemirror_mode": {
    "name": "ipython",
    "version": 3
   },
   "file_extension": ".py",
   "mimetype": "text/x-python",
   "name": "python",
   "nbconvert_exporter": "python",
   "pygments_lexer": "ipython3",
   "version": "3.10.6"
  },
  "vscode": {
   "interpreter": {
    "hash": "b0fa6594d8f4cbf19f97940f81e996739fb7646882a419484c72d19e05852a7e"
   }
  }
 },
 "nbformat": 4,
 "nbformat_minor": 5
}
