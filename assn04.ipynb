{
 "cells": [
  {
   "cell_type": "markdown",
   "metadata": {},
   "source": [
    "**Assignment**:  Applying the SOLID Principles in Python\n",
    "\n",
    "For each of the five SOLID principles, provide a example in Python that illustrates the design prinicple.\n",
    "\n",
    "| | Principle |\n",
    "|:-:|-----------|\n",
    "| S | Single Responsibility Principle |\n",
    "| O | Open-Closed Principle |\n",
    "| L | Liskhov Substitution Principle |\n",
    "| I | Interface Segregation Principle |\n",
    "| D | Dependency Inversion Principle |\n",
    "\n",
    "\n",
    "1. S: Single Responsibility Principle"
   ]
  },
  {
   "cell_type": "code",
   "execution_count": null,
   "metadata": {},
   "outputs": [],
   "source": [
    "class User:\n",
    "  def __init__(self, name):\n",
    "    self.name = name\n",
    "class DB:\n",
    "    def __init__(self,name):\n",
    "        self.name = name\n",
    "\n",
    "def main():\n",
    "    user = User(Matt)\n",
    "    db = DB(John)\n"
   ]
  },
  {
   "cell_type": "markdown",
   "metadata": {},
   "source": [
    "2. O: Open Closed Principle"
   ]
  },
  {
   "cell_type": "code",
   "execution_count": null,
   "metadata": {},
   "outputs": [],
   "source": [
    "class Shape:\n",
    "  def draw(self):\n",
    "    pass\n",
    "\n",
    "class Circle(Shape):\n",
    "  def draw(self):\n",
    "    # ...\n",
    "\n",
    "class Square(Shape):\n",
    "  def draw(self):\n",
    "    # ...\n",
    "\n",
    "def main():\n",
    "  shapes = [Circle(), Square()]\n",
    "\n",
    "  for shape in shapes:\n",
    "    shape.draw()"
   ]
  },
  {
   "cell_type": "markdown",
   "metadata": {},
   "source": [
    "3. Liskov Substitution Priniciple"
   ]
  },
  {
   "cell_type": "code",
   "execution_count": null,
   "metadata": {},
   "outputs": [],
   "source": [
    "class Person:\n",
    "  def walk(self):\n",
    "    pass\n",
    "\n",
    "class Student(Person):\n",
    "  def walk(self):\n",
    "    # ...\n",
    "\n",
    "class Teacher(Person):\n",
    "  def walk(self):\n",
    "    # ...\n",
    "\n",
    "def main():\n",
    "  persons = [Student(), Teacher()]\n",
    "\n",
    "  for person in persons:\n",
    "    person.walk()"
   ]
  },
  {
   "cell_type": "markdown",
   "metadata": {},
   "source": [
    "4. Interface Segregation Principle"
   ]
  },
  {
   "cell_type": "code",
   "execution_count": null,
   "metadata": {},
   "outputs": [],
   "source": [
    "class Shape:\n",
    "  def draw(self):\n",
    "    pass\n",
    "\n",
    "class ColoredShape:\n",
    "  def set_color(self, color):\n",
    "    pass\n",
    "\n",
    "class Circle(Shape, ColoredShape):\n",
    "  def draw(self):\n",
    "    # ...\n",
    "\n",
    "class Square(Shape, ColoredShape):\n",
    "  def draw(self):\n",
    "    # ...\n",
    "\n",
    "def main():\n",
    "  shapes = [Circle(), Square()]\n",
    "\n",
    "  for shape in shapes:\n",
    "    shape.draw()\n",
    "    # shape.set_color(\"red\") # Not allowed for Square objects\n"
   ]
  },
  {
   "cell_type": "markdown",
   "metadata": {},
   "source": [
    "5. Dependency Inversion Principle"
   ]
  },
  {
   "cell_type": "code",
   "execution_count": null,
   "metadata": {},
   "outputs": [],
   "source": [
    "class Shape:\n",
    "  def __init__(self, drawer):\n",
    "    self.drawer = drawer\n",
    "\n",
    "  def draw(self):\n",
    "    self.drawer.draw(self)\n",
    "\n",
    "class CircleDrawer:\n",
    "  def draw(self, shape):\n",
    "    # ...\n",
    "\n",
    "class SquareDrawer:\n",
    "  def draw(self, shape):\n",
    "    # ...\n",
    "\n",
    "def main():\n",
    "  circle_drawer = CircleDrawer()\n",
    "  square_drawer = SquareDrawer()\n",
    "\n",
    "  circle = Shape(circle_drawer)\n",
    "  square = Shape(square_drawer)\n",
    "\n",
    "  circle.draw()\n",
    "  square.draw()"
   ]
  }
 ],
 "metadata": {
  "kernelspec": {
   "display_name": "base",
   "language": "python",
   "name": "python3"
  },
  "language_info": {
   "name": "python",
   "version": "3.11.5"
  },
  "orig_nbformat": 4
 },
 "nbformat": 4,
 "nbformat_minor": 2
}
